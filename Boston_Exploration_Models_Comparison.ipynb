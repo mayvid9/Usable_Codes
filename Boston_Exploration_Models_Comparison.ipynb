{
  "nbformat": 4,
  "nbformat_minor": 0,
  "metadata": {
    "colab": {
      "name": "Boston_Exploration_Models_Comparison.ipynb",
      "provenance": [],
      "collapsed_sections": []
    },
    "kernelspec": {
      "name": "python3",
      "display_name": "Python 3"
    }
  },
  "cells": [
    {
      "cell_type": "markdown",
      "metadata": {
        "id": "PPDlAzNXnJ6g",
        "colab_type": "text"
      },
      "source": [
        "## Boston Housing Data Set"
      ]
    },
    {
      "cell_type": "markdown",
      "metadata": {
        "id": "WD9sEnmknTA4",
        "colab_type": "text"
      },
      "source": [
        "In this project, you will evaluate the performance and predictive power of a model that has been trained and tested on data collected from homes in suburbs of Boston, Massachusetts. A model trained on this data that is seen as a good fit could then be used to make certain predictions about a home — in particular, its monetary value. This model would prove to be invaluable for someone like a real estate agent who could make use of such information on a daily basis.\n",
        "\n",
        "The dataset for this project originates from the UCI Machine Learning Repository. The Boston housing data was collected in 1978 and each of the 506 entries represent aggregated data about 14 features for homes from various suburbs in Boston, Massachusetts. For the purposes of this project, the following preprocessing steps have been made to the dataset:"
      ]
    },
    {
      "cell_type": "markdown",
      "metadata": {
        "id": "OBBZGtonxB6O",
        "colab_type": "text"
      },
      "source": [
        "https://archive.ics.uci.edu/ml/machine-learning-databases/housing/"
      ]
    },
    {
      "cell_type": "markdown",
      "metadata": {
        "id": "6nma1sjNV8KT",
        "colab_type": "text"
      },
      "source": [
        "## Load Packages"
      ]
    },
    {
      "cell_type": "code",
      "metadata": {
        "id": "ykYBjgL5ieA3",
        "colab_type": "code",
        "colab": {
          "base_uri": "https://localhost:8080/",
          "height": 349
        },
        "outputId": "5d8956ed-aad9-418b-d2e6-2e95a54eaf71"
      },
      "source": [
        "!pip install ngboost"
      ],
      "execution_count": 137,
      "outputs": [
        {
          "output_type": "stream",
          "text": [
            "Requirement already satisfied: ngboost in /usr/local/lib/python3.6/dist-packages (0.2.0)\n",
            "Requirement already satisfied: numpy>=1.17.2 in /usr/local/lib/python3.6/dist-packages (from ngboost) (1.18.4)\n",
            "Requirement already satisfied: scipy>=1.3.1 in /usr/local/lib/python3.6/dist-packages (from ngboost) (1.4.1)\n",
            "Requirement already satisfied: scikit-learn>=0.21.3 in /usr/local/lib/python3.6/dist-packages (from ngboost) (0.22.2.post1)\n",
            "Requirement already satisfied: tqdm>=4.36.1 in /usr/local/lib/python3.6/dist-packages (from ngboost) (4.41.1)\n",
            "Requirement already satisfied: lifelines>=0.22.8 in /usr/local/lib/python3.6/dist-packages (from ngboost) (0.24.8)\n",
            "Requirement already satisfied: joblib>=0.11 in /usr/local/lib/python3.6/dist-packages (from scikit-learn>=0.21.3->ngboost) (0.14.1)\n",
            "Requirement already satisfied: autograd>=1.3 in /usr/local/lib/python3.6/dist-packages (from lifelines>=0.22.8->ngboost) (1.3)\n",
            "Requirement already satisfied: pandas>=0.23.0 in /usr/local/lib/python3.6/dist-packages (from lifelines>=0.22.8->ngboost) (1.0.3)\n",
            "Requirement already satisfied: autograd-gamma>=0.3 in /usr/local/lib/python3.6/dist-packages (from lifelines>=0.22.8->ngboost) (0.4.2)\n",
            "Requirement already satisfied: matplotlib>=3.0 in /usr/local/lib/python3.6/dist-packages (from lifelines>=0.22.8->ngboost) (3.2.1)\n",
            "Requirement already satisfied: future>=0.15.2 in /usr/local/lib/python3.6/dist-packages (from autograd>=1.3->lifelines>=0.22.8->ngboost) (0.16.0)\n",
            "Requirement already satisfied: python-dateutil>=2.6.1 in /usr/local/lib/python3.6/dist-packages (from pandas>=0.23.0->lifelines>=0.22.8->ngboost) (2.8.1)\n",
            "Requirement already satisfied: pytz>=2017.2 in /usr/local/lib/python3.6/dist-packages (from pandas>=0.23.0->lifelines>=0.22.8->ngboost) (2018.9)\n",
            "Requirement already satisfied: pyparsing!=2.0.4,!=2.1.2,!=2.1.6,>=2.0.1 in /usr/local/lib/python3.6/dist-packages (from matplotlib>=3.0->lifelines>=0.22.8->ngboost) (2.4.7)\n",
            "Requirement already satisfied: cycler>=0.10 in /usr/local/lib/python3.6/dist-packages (from matplotlib>=3.0->lifelines>=0.22.8->ngboost) (0.10.0)\n",
            "Requirement already satisfied: kiwisolver>=1.0.1 in /usr/local/lib/python3.6/dist-packages (from matplotlib>=3.0->lifelines>=0.22.8->ngboost) (1.2.0)\n",
            "Requirement already satisfied: six>=1.5 in /usr/local/lib/python3.6/dist-packages (from python-dateutil>=2.6.1->pandas>=0.23.0->lifelines>=0.22.8->ngboost) (1.12.0)\n"
          ],
          "name": "stdout"
        }
      ]
    },
    {
      "cell_type": "code",
      "metadata": {
        "id": "coAHd2aAVT4q",
        "colab_type": "code",
        "colab": {}
      },
      "source": [
        "import pandas as pd\n",
        "import numpy as np\n",
        "\n",
        "from sklearn.datasets import load_boston\n",
        "from sklearn.model_selection import train_test_split\n",
        "from ngboost import NGBRegressor\n",
        "from ngboost.learners import default_tree_learner\n",
        "from ngboost.distns import Normal\n",
        "from ngboost.scores import MLE\n",
        "from sklearn.ensemble import RandomForestRegressor\n",
        "from lightgbm.sklearn import LGBMRegressor\n",
        "from xgboost.sklearn import XGBRegressor\n",
        "from sklearn.metrics import r2_score\n",
        "\n",
        "SEED = 1\n",
        "\n",
        "#To ignore warnings\n",
        "import warnings\n",
        "warnings.filterwarnings('ignore')"
      ],
      "execution_count": 0,
      "outputs": []
    },
    {
      "cell_type": "code",
      "metadata": {
        "id": "vfeO3pQiV6bL",
        "colab_type": "code",
        "colab": {}
      },
      "source": [
        "# Load data\n",
        "dataset = load_boston()\n",
        "X, y = dataset.data, dataset.target\n",
        "features = dataset.feature_names"
      ],
      "execution_count": 0,
      "outputs": []
    },
    {
      "cell_type": "code",
      "metadata": {
        "id": "V0LybVRsjH3Z",
        "colab_type": "code",
        "colab": {
          "base_uri": "https://localhost:8080/",
          "height": 243
        },
        "outputId": "7be491b0-69e7-4aa6-e749-3088c3624dbd"
      },
      "source": [
        "X"
      ],
      "execution_count": 140,
      "outputs": [
        {
          "output_type": "execute_result",
          "data": {
            "text/plain": [
              "array([[6.3200e-03, 1.8000e+01, 2.3100e+00, ..., 1.5300e+01, 3.9690e+02,\n",
              "        4.9800e+00],\n",
              "       [2.7310e-02, 0.0000e+00, 7.0700e+00, ..., 1.7800e+01, 3.9690e+02,\n",
              "        9.1400e+00],\n",
              "       [2.7290e-02, 0.0000e+00, 7.0700e+00, ..., 1.7800e+01, 3.9283e+02,\n",
              "        4.0300e+00],\n",
              "       ...,\n",
              "       [6.0760e-02, 0.0000e+00, 1.1930e+01, ..., 2.1000e+01, 3.9690e+02,\n",
              "        5.6400e+00],\n",
              "       [1.0959e-01, 0.0000e+00, 1.1930e+01, ..., 2.1000e+01, 3.9345e+02,\n",
              "        6.4800e+00],\n",
              "       [4.7410e-02, 0.0000e+00, 1.1930e+01, ..., 2.1000e+01, 3.9690e+02,\n",
              "        7.8800e+00]])"
            ]
          },
          "metadata": {
            "tags": []
          },
          "execution_count": 140
        }
      ]
    },
    {
      "cell_type": "code",
      "metadata": {
        "id": "m8rrE_Veju2t",
        "colab_type": "code",
        "colab": {
          "base_uri": "https://localhost:8080/",
          "height": 35
        },
        "outputId": "b719999d-81d8-46b1-8b4f-4da1fe8cb5f5"
      },
      "source": [
        "print(len(X), len(y))"
      ],
      "execution_count": 141,
      "outputs": [
        {
          "output_type": "stream",
          "text": [
            "506 506\n"
          ],
          "name": "stdout"
        }
      ]
    },
    {
      "cell_type": "code",
      "metadata": {
        "id": "CkbRD_zri6hy",
        "colab_type": "code",
        "colab": {
          "base_uri": "https://localhost:8080/",
          "height": 52
        },
        "outputId": "7a61667a-8e47-4d37-d51e-96731ec0ab54"
      },
      "source": [
        "# Train/test split\n",
        "X_train, X_valid, y_train, y_valid = train_test_split(X, y,\n",
        "                                                    test_size=0.2,\n",
        "                                                    random_state=SEED)\n",
        "print('The shape of training dataset: {}'.format(X_train.shape[0]))\n",
        "print('The shape of validation dataset: {}'.format(X_valid.shape[0]))\n"
      ],
      "execution_count": 142,
      "outputs": [
        {
          "output_type": "stream",
          "text": [
            "The shape of training dataset: 404\n",
            "The shape of validation dataset: 102\n"
          ],
          "name": "stdout"
        }
      ]
    },
    {
      "cell_type": "markdown",
      "metadata": {
        "id": "mI_n7GqSl1KY",
        "colab_type": "text"
      },
      "source": [
        "### RandomForest "
      ]
    },
    {
      "cell_type": "code",
      "metadata": {
        "id": "7maa6dDvlDNw",
        "colab_type": "code",
        "colab": {
          "base_uri": "https://localhost:8080/",
          "height": 35
        },
        "outputId": "26410070-d55a-4424-94ea-ffe606165d43"
      },
      "source": [
        "# Fit and predict - RandomForest\n",
        "rf = RandomForestRegressor(n_estimators=500, random_state=SEED).fit(X_train, y_train)\n",
        "y_pred = rf.predict(X_valid)\n",
        "rf_r2_score = round(100 * r2_score(y_valid, y_pred),2)\n",
        "print('Random Forest: R2 score on testing data: {:.2f}%'.format(100 * r2_score(y_valid, y_pred)))\n",
        "\n"
      ],
      "execution_count": 143,
      "outputs": [
        {
          "output_type": "stream",
          "text": [
            "Random Forest: R2 score on testing data: 91.24%\n"
          ],
          "name": "stdout"
        }
      ]
    },
    {
      "cell_type": "markdown",
      "metadata": {
        "id": "KqcufTHTl3k_",
        "colab_type": "text"
      },
      "source": [
        "### LightGBM"
      ]
    },
    {
      "cell_type": "code",
      "metadata": {
        "id": "ShjZBH9VlFWv",
        "colab_type": "code",
        "colab": {
          "base_uri": "https://localhost:8080/",
          "height": 35
        },
        "outputId": "d34db0bc-5c0b-487f-e803-a9b8ebebb5cf"
      },
      "source": [
        "# Fit and predict - LightGBM\n",
        "lgb = LGBMRegressor(n_estimators=500, random_state=SEED).fit(X_train, y_train)\n",
        "y_pred = lgb.predict(X_valid)\n",
        "lightgbm_r2_score = round(100 * r2_score(y_valid, y_pred),2)\n",
        "print('LightGBM: R2 score on testing data: {:.2f}%'.format(100 * r2_score(y_valid, y_pred)))"
      ],
      "execution_count": 144,
      "outputs": [
        {
          "output_type": "stream",
          "text": [
            "LightGBM: R2 score on testing data: 88.54%\n"
          ],
          "name": "stdout"
        }
      ]
    },
    {
      "cell_type": "markdown",
      "metadata": {
        "id": "wQaM-RdGl5c_",
        "colab_type": "text"
      },
      "source": [
        "### XGBoost"
      ]
    },
    {
      "cell_type": "code",
      "metadata": {
        "id": "IFfni6dClG43",
        "colab_type": "code",
        "colab": {
          "base_uri": "https://localhost:8080/",
          "height": 52
        },
        "outputId": "7e95ca92-12fd-4689-d143-cc02b3cb7c69"
      },
      "source": [
        "# Fit and predict - XGBoost\n",
        "xgb = XGBRegressor(n_estimators=500, random_state=SEED).fit(X_train, y_train)\n",
        "y_pred = xgb.predict(X_valid)\n",
        "xgboost_r2_score = round(100 * r2_score(y_valid, y_pred),2)\n",
        "print('LightGBM: R2 score on testing data: {:.2f}%'.format(100 * r2_score(y_valid, y_pred)))"
      ],
      "execution_count": 145,
      "outputs": [
        {
          "output_type": "stream",
          "text": [
            "[12:37:51] WARNING: /workspace/src/objective/regression_obj.cu:152: reg:linear is now deprecated in favor of reg:squarederror.\n",
            "LightGBM: R2 score on testing data: 91.63%\n"
          ],
          "name": "stdout"
        }
      ]
    },
    {
      "cell_type": "markdown",
      "metadata": {
        "id": "NM3DgqLfl8CG",
        "colab_type": "text"
      },
      "source": [
        "### NGBoost"
      ]
    },
    {
      "cell_type": "code",
      "metadata": {
        "id": "yApff6RslIcm",
        "colab_type": "code",
        "colab": {
          "base_uri": "https://localhost:8080/",
          "height": 121
        },
        "outputId": "d9f8a485-748d-4ee7-e6fe-ade74fd69665"
      },
      "source": [
        "# Fit and predict - NGBoost\n",
        "np.random.seed(SEED)\n",
        "ngb = NGBRegressor(n_estimators=500,\n",
        "                   Base=default_tree_learner, Dist=Normal, Score=MLE).fit(X_train, y_train)\n",
        "y_pred = ngb.predict(X_valid)\n",
        "ngboost_r2_score = round(100 * r2_score(y_valid, y_pred),2)\n",
        "print('NGBoost: R2 score on testing data: {:.2f}%'.format(100 * r2_score(y_valid, y_pred)))"
      ],
      "execution_count": 146,
      "outputs": [
        {
          "output_type": "stream",
          "text": [
            "[iter 0] loss=3.6148 val_loss=0.0000 scale=0.5000 norm=3.3180\n",
            "[iter 100] loss=3.0775 val_loss=0.0000 scale=1.0000 norm=3.8186\n",
            "[iter 200] loss=2.4264 val_loss=0.0000 scale=2.0000 norm=4.0041\n",
            "[iter 300] loss=2.0065 val_loss=0.0000 scale=2.0000 norm=3.1281\n",
            "[iter 400] loss=1.8057 val_loss=0.0000 scale=2.0000 norm=2.8110\n",
            "NGBoost: R2 score on testing data: 92.13%\n"
          ],
          "name": "stdout"
        }
      ]
    },
    {
      "cell_type": "code",
      "metadata": {
        "id": "Yk11-uxEmW6h",
        "colab_type": "code",
        "colab": {
          "base_uri": "https://localhost:8080/",
          "height": 35
        },
        "outputId": "b6c9d79f-1ad7-4621-bac5-c44960ee1def"
      },
      "source": [
        "#Actual prediction values - top 3 records\n",
        "y_pred[:3]"
      ],
      "execution_count": 147,
      "outputs": [
        {
          "output_type": "execute_result",
          "data": {
            "text/plain": [
              "array([30.48397598, 27.18208754, 18.95674258])"
            ]
          },
          "metadata": {
            "tags": []
          },
          "execution_count": 147
        }
      ]
    },
    {
      "cell_type": "code",
      "metadata": {
        "id": "mAxrHvh_lKyJ",
        "colab_type": "code",
        "colab": {
          "base_uri": "https://localhost:8080/",
          "height": 69
        },
        "outputId": "a9e27fa1-2f95-4103-abcd-ca191680c0de"
      },
      "source": [
        "# Probability distribution for the top 3 observations - Point predictions done at top\n",
        "obs_idx = [0,1,2]\n",
        "dist = ngb.pred_dist(X_test[obs_idx, :])\n",
        "print('P(y_0|x_0) is distributed with loc={:.2f} and scale={:.2f}'.format(dist.loc[0], dist.scale[0]))\n",
        "print('P(y_1|x_1) is distributed with loc={:.2f} and scale={:.2f}'.format(dist.loc[1], dist.scale[1]))\n",
        "print('P(y_1|x_2) is distributed with loc={:.2f} and scale={:.2f}'.format(dist.loc[2], dist.scale[2]))"
      ],
      "execution_count": 148,
      "outputs": [
        {
          "output_type": "stream",
          "text": [
            "P(y_0|x_0) is distributed with loc=18.16 and scale=1.43\n",
            "P(y_1|x_1) is distributed with loc=22.97 and scale=1.47\n",
            "P(y_1|x_2) is distributed with loc=10.66 and scale=1.51\n"
          ],
          "name": "stdout"
        }
      ]
    },
    {
      "cell_type": "code",
      "metadata": {
        "id": "f_MRq1M_8Pjs",
        "colab_type": "code",
        "colab": {
          "base_uri": "https://localhost:8080/",
          "height": 35
        },
        "outputId": "a1370af1-8b03-47eb-a3ac-ae891ccd7533"
      },
      "source": [
        "print(performance)"
      ],
      "execution_count": 151,
      "outputs": [
        {
          "output_type": "stream",
          "text": [
            "[91.24, 88.54, 91.63, 92.13]\n"
          ],
          "name": "stdout"
        }
      ]
    },
    {
      "cell_type": "code",
      "metadata": {
        "id": "WaN2vvAh6q8J",
        "colab_type": "code",
        "colab": {
          "base_uri": "https://localhost:8080/",
          "height": 472
        },
        "outputId": "4e6bf77a-46b1-4117-ff9f-9c54f08b6971"
      },
      "source": [
        "import matplotlib.pyplot as plt; plt.rcdefaults()\n",
        "import numpy as np\n",
        "import matplotlib.pyplot as plt\n",
        "\n",
        "objects = ('LightGBM', 'RandomForest',  'XGBoost', 'NGBoost')\n",
        "y_pos = np.arange(len(objects))\n",
        "performance = [lightgbm_r2_score,rf_r2_score, xgboost_r2_score,ngboost_r2_score]\n",
        "\n",
        "plt.barh(y_pos, performance, align='center', alpha=0.5)\n",
        "plt.yticks(y_pos, objects)\n",
        "plt.xlabel('Usage')\n",
        "plt.title('R2 score')\n",
        "\n",
        "plt.show()"
      ],
      "execution_count": 154,
      "outputs": [
        {
          "output_type": "display_data",
          "data": {
            "image/png": "[encoded data removed]",
            "text/plain": [
              "<Figure size 640x480 with 1 Axes>"
            ]
          },
          "metadata": {
            "tags": []
          }
        }
      ]
    },
    {
      "cell_type": "markdown",
      "metadata": {
        "id": "F7x7rL6eEDPA",
        "colab_type": "text"
      },
      "source": [
        "# NGBoost marginally outperforms better w.r.t R2_score metric"
      ]
    },
    {
      "cell_type": "code",
      "metadata": {
        "id": "BOwCllbN5W1G",
        "colab_type": "code",
        "colab": {}
      },
      "source": [
        ""
      ],
      "execution_count": 0,
      "outputs": []
    }
  ]
}